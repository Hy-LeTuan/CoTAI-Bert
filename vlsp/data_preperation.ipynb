{
 "cells": [
  {
   "cell_type": "code",
   "execution_count": 44,
   "metadata": {},
   "outputs": [],
   "source": [
    "from pyspark.sql import SparkSession\n",
    "from glob import glob\n",
    "import os"
   ]
  },
  {
   "cell_type": "code",
   "execution_count": 45,
   "metadata": {},
   "outputs": [],
   "source": [
    "spark = SparkSession.builder.getOrCreate()"
   ]
  },
  {
   "cell_type": "code",
   "execution_count": 46,
   "metadata": {},
   "outputs": [],
   "source": [
    "# get all .txt file paths in NER 2016 dataset\n",
    "# text_file_paths = sorted(glob(\"./data/NER2016-TestData-16-9-2016/**/*.txt\", recursive=True))\n",
    "text_file_paths = sorted(glob(\"./data/NER2016-TrainingData-3-3-2017-txt/**/*.txt\", recursive=True))\n",
    "origin = \"train\""
   ]
  },
  {
   "cell_type": "code",
   "execution_count": 47,
   "metadata": {},
   "outputs": [],
   "source": [
    "tag_names = [\"B-PER\", \"I-PER\", \"B-ORG\", \"I-ORG\", \"B-LOC\", \"I-LOC\", \"O\"]"
   ]
  },
  {
   "cell_type": "code",
   "execution_count": 48,
   "metadata": {},
   "outputs": [],
   "source": [
    "# read file and extract tags\n",
    "def extract_and_reformat(text_file_paths):\n",
    "    for file_counter, filepath in enumerate(text_file_paths):\n",
    "        with open(filepath, \"r\", encoding=\"utf-8\") as f:\n",
    "            content = f.readline()\n",
    "            output_file = open(f\"./data/formatted_data/2016/{origin}/{str(file_counter).zfill(5)}.txt\", \"w\", encoding=\"utf-8\")\n",
    "\n",
    "            line_counter = 0\n",
    "\n",
    "            while content:\n",
    "                if line_counter <= 3:\n",
    "                    line_counter += 1\n",
    "                    content = f.readline()\n",
    "                    continue\n",
    "                # get tags\n",
    "                tags = content.split(\"\\t\")\n",
    "\n",
    "                # if tag is not a word\n",
    "                if tags[0] == '<s>' or tags[0] == \"</s>\":\n",
    "                    tags = []\n",
    "                else:\n",
    "                    tags[-1] = tags[-1].strip()\n",
    "\n",
    "                if tags and len(tags) >= 4:\n",
    "                    words = tags[0]\n",
    "                    ner_tag = tags[3]\n",
    "                    output_file.write(f\"{words} {ner_tag}\\n\")\n",
    "\n",
    "                content = f.readline()\n",
    "            \n",
    "            # prepare for next increment\n",
    "            output_file.close()\n",
    "\n",
    "extract_and_reformat(text_file_paths)"
   ]
  },
  {
   "cell_type": "code",
   "execution_count": 49,
   "metadata": {},
   "outputs": [],
   "source": [
    "input_file = \"./data/NER2016-TestData-16-9-2016/Test data (16-9-2016) Column/104682.txt\""
   ]
  },
  {
   "cell_type": "code",
   "execution_count": 52,
   "metadata": {},
   "outputs": [],
   "source": [
    "df = spark.read.text(text_file_paths, lineSep=\"\\n\")"
   ]
  },
  {
   "cell_type": "code",
   "execution_count": 53,
   "metadata": {},
   "outputs": [
    {
     "name": "stdout",
     "output_type": "stream",
     "text": [
      "['<title>Năm ngày ở bệnh_viện.</title>\\r']\n",
      "----\n",
      "['<editor>Vietlex team, 8-2016</editor>\\r']\n",
      "----\n",
      "['-DOCSTART-\\r']\n",
      "----\n",
      "['<s>', '', '', '', '\\r']\n",
      "----\n",
      "['Bệnh_viện', 'N', 'B-NP', 'O', 'O\\r']\n",
      "----\n",
      "['X', 'Ni', 'B-NP', 'O', 'O\\r']\n",
      "----\n",
      "['mới', 'R', 'O', 'O', 'O\\r']\n",
      "----\n",
      "['7', 'M', 'B-NP', 'O', 'O\\r']\n",
      "----\n",
      "['g', 'Nu', 'B-NP', 'O', 'O\\r']\n",
      "----\n",
      "['sáng', 'N', 'B-NP', 'O', 'O\\r']\n",
      "----\n"
     ]
    }
   ],
   "source": [
    "for i in range(10):\n",
    "    text = df.collect()[i][\"value\"].split(\"\\t\")\n",
    "    print(text)\n",
    "    print(\"----\")"
   ]
  }
 ],
 "metadata": {
  "kernelspec": {
   "display_name": "dl_310",
   "language": "python",
   "name": "python3"
  },
  "language_info": {
   "codemirror_mode": {
    "name": "ipython",
    "version": 3
   },
   "file_extension": ".py",
   "mimetype": "text/x-python",
   "name": "python",
   "nbconvert_exporter": "python",
   "pygments_lexer": "ipython3",
   "version": "3.10.15"
  }
 },
 "nbformat": 4,
 "nbformat_minor": 2
}
