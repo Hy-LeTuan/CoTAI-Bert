{
 "cells": [
  {
   "cell_type": "code",
   "execution_count": 27,
   "metadata": {},
   "outputs": [],
   "source": [
    "from datasets import load_dataset\n",
    "import pandas as pd\n",
    "import numpy as np\n",
    "import torch\n",
    "from glob import glob\n",
    "import os"
   ]
  },
  {
   "cell_type": "code",
   "execution_count": 3,
   "metadata": {},
   "outputs": [],
   "source": [
    "# get all .txt file paths in NER 2016 dataset\n",
    "text_file_paths = sorted(glob(\"./data/NER2016-TestData-16-9-2016/**/*.txt\", recursive=True))"
   ]
  },
  {
   "cell_type": "code",
   "execution_count": 22,
   "metadata": {},
   "outputs": [],
   "source": [
    "tag_names = [\"B-PER\", \"I-PER\", \"B-ORG\", \"I-ORG\", \"B-LOC\", \"I-LOC\", \"O\"]"
   ]
  },
  {
   "cell_type": "code",
   "execution_count": 31,
   "metadata": {},
   "outputs": [],
   "source": [
    "# read file and extract tags\n",
    "def extract_and_reformat(text_file_paths):\n",
    "    for file_counter, filepath in enumerate(text_file_paths):\n",
    "        with open(filepath, \"r\", encoding=\"utf-8\") as f:\n",
    "            content = f.readline()\n",
    "            output_file = open(f\"./data/formatted_data/{str(file_counter).zfill(5)}.txt\", \"w\", encoding=\"utf-8\")\n",
    "\n",
    "            line_counter = 0\n",
    "\n",
    "            while content:\n",
    "                if line_counter <= 3:\n",
    "                    line_counter += 1\n",
    "                    content = f.readline()\n",
    "                    continue\n",
    "                # get tags\n",
    "                tags = content.split(\"\\t\")\n",
    "\n",
    "                # if tag is not a word\n",
    "                if tags[0] == '<s>' or tags[0] == \"</s>\":\n",
    "                    tags = []\n",
    "                else:\n",
    "                    tags[-1] = tags[-1].strip()\n",
    "\n",
    "                if tags and len(tags) >= 4:\n",
    "                    words = tags[0]\n",
    "                    ner_tag = tags[3]\n",
    "                    output_file.write(f\"{words} {ner_tag}\\n\")\n",
    "\n",
    "                content = f.readline()\n",
    "            \n",
    "            # prepare for next increment\n",
    "            output_file.close()\n",
    "\n",
    "extract_and_reformat(text_file_paths)"
   ]
  }
 ],
 "metadata": {
  "kernelspec": {
   "display_name": "dl_310",
   "language": "python",
   "name": "python3"
  },
  "language_info": {
   "codemirror_mode": {
    "name": "ipython",
    "version": 3
   },
   "file_extension": ".py",
   "mimetype": "text/x-python",
   "name": "python",
   "nbconvert_exporter": "python",
   "pygments_lexer": "ipython3",
   "version": "3.10.15"
  }
 },
 "nbformat": 4,
 "nbformat_minor": 2
}
