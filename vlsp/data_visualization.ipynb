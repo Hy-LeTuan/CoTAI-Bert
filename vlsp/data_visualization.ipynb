{
 "cells": [
  {
   "cell_type": "code",
   "execution_count": 4,
   "metadata": {},
   "outputs": [],
   "source": [
    "from datasets import load_dataset\n",
    "import pandas as pd\n",
    "import numpy as np\n",
    "import torch\n",
    "from glob import glob"
   ]
  },
  {
   "cell_type": "code",
   "execution_count": 19,
   "metadata": {},
   "outputs": [],
   "source": [
    "# get all .txt file paths in NER 2016 dataset\n",
    "text_file_paths = sorted(glob(\"./data/NER2016-TestData-16-9-2016/**/*.txt\", recursive=True))"
   ]
  },
  {
   "cell_type": "code",
   "execution_count": 20,
   "metadata": {},
   "outputs": [
    {
     "name": "stdout",
     "output_type": "stream",
     "text": [
      "filepath ----\n",
      "./data/NER2016-TestData-16-9-2016/Test data (16-9-2016) Column/104682.txt\n",
      "content ----\n",
      "﻿<title>Đời thuyền_viên (kỳ 3): Những người bỏ_xác giữa đại_dương.</title>\n",
      "\n"
     ]
    }
   ],
   "source": [
    "# read file and extrac tags\n",
    "for file in text_file_paths:\n",
    "    print(\"filepath ----\")\n",
    "    print(file)\n",
    "    with open(file, \"r\", encoding=\"utf-8\") as f:\n",
    "        content = f.readline()\n",
    "\n",
    "        while content:\n",
    "            print(\"content ----\")\n",
    "            print(content)\n",
    "            break\n",
    "\n",
    "    break"
   ]
  }
 ],
 "metadata": {
  "kernelspec": {
   "display_name": "dl_310",
   "language": "python",
   "name": "python3"
  },
  "language_info": {
   "codemirror_mode": {
    "name": "ipython",
    "version": 3
   },
   "file_extension": ".py",
   "mimetype": "text/x-python",
   "name": "python",
   "nbconvert_exporter": "python",
   "pygments_lexer": "ipython3",
   "version": "3.10.15"
  }
 },
 "nbformat": 4,
 "nbformat_minor": 2
}
