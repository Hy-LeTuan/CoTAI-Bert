{
 "cells": [
  {
   "cell_type": "code",
   "execution_count": 1,
   "metadata": {},
   "outputs": [],
   "source": [
    "from regex_clean import RegexCleaner\n",
    "from converter import convert_content_and_write_to_arrow\n",
    "from datasets import load_dataset\n",
    "import os\n",
    "from tqdm import tqdm "
   ]
  },
  {
   "cell_type": "code",
   "execution_count": 2,
   "metadata": {},
   "outputs": [],
   "source": [
    "dataset = load_dataset(\"text\", data_files=\"data.txt\", split=\"train\")"
   ]
  },
  {
   "cell_type": "code",
   "execution_count": 3,
   "metadata": {},
   "outputs": [],
   "source": [
    "output_dir = \"./data\""
   ]
  },
  {
   "cell_type": "code",
   "execution_count": 4,
   "metadata": {},
   "outputs": [],
   "source": [
    "cleaner = RegexCleaner()"
   ]
  },
  {
   "cell_type": "code",
   "execution_count": 5,
   "metadata": {},
   "outputs": [
    {
     "name": "stderr",
     "output_type": "stream",
     "text": [
      "100%|██████████| 15737126/15737126 [12:05<00:00, 21700.83it/s]\n"
     ]
    }
   ],
   "source": [
    "content = [] \n",
    "data_file_counter = 106\n",
    "\n",
    "for row in tqdm(dataset): \n",
    "    # clean functions \n",
    "    text = row[\"text\"]\n",
    "\n",
    "    text = cleaner.clean_person(text) \n",
    "    text = cleaner.clean_phone_number(text) \n",
    "    text = cleaner.clean_url(text) \n",
    "    text = cleaner.clean_trivial_sentences(text) \n",
    "    text = cleaner.clean_general(text) \n",
    "\n",
    "    if text == \"<empty>\" or text == \"<illegal>\": \n",
    "        continue  \n",
    "    else: \n",
    "        content.append(text) \n",
    "\n",
    "\n",
    "if content: \n",
    "    convert_content_and_write_to_arrow(content, output_filepath=f\"{output_dir}/data_{str(data_file_counter).zfill(5)}.arrow\")\n",
    "    content = [] \n",
    "    data_file_counter += 1"
   ]
  }
 ],
 "metadata": {
  "kernelspec": {
   "display_name": "dl",
   "language": "python",
   "name": "python3"
  },
  "language_info": {
   "codemirror_mode": {
    "name": "ipython",
    "version": 3
   },
   "file_extension": ".py",
   "mimetype": "text/x-python",
   "name": "python",
   "nbconvert_exporter": "python",
   "pygments_lexer": "ipython3",
   "version": "3.9.20"
  }
 },
 "nbformat": 4,
 "nbformat_minor": 2
}
