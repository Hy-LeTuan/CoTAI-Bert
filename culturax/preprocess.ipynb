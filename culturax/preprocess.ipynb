{
 "cells": [
  {
   "cell_type": "code",
   "execution_count": 1,
   "metadata": {},
   "outputs": [],
   "source": [
    "import os\n",
    "from datasets import load_dataset\n",
    "from tqdm import tqdm "
   ]
  },
  {
   "cell_type": "code",
   "execution_count": 2,
   "metadata": {},
   "outputs": [],
   "source": [
    "base_dir = \"./data_eng_culturax\"\n",
    "output_dir = \"./data_eng_culturax_converted\""
   ]
  },
  {
   "cell_type": "code",
   "execution_count": 3,
   "metadata": {},
   "outputs": [
    {
     "data": {
      "application/vnd.jupyter.widget-view+json": {
       "model_id": "1ce28cec393547ee9102e1a3049d73e9",
       "version_major": 2,
       "version_minor": 0
      },
      "text/plain": [
       "Resolving data files:   0%|          | 0/52 [00:00<?, ?it/s]"
      ]
     },
     "metadata": {},
     "output_type": "display_data"
    }
   ],
   "source": [
    "dataset = load_dataset(base_dir, streaming=True)"
   ]
  },
  {
   "cell_type": "code",
   "execution_count": 4,
   "metadata": {},
   "outputs": [
    {
     "name": "stderr",
     "output_type": "stream",
     "text": [
      "57563345it [1:36:11, 9973.00it/s] \n"
     ]
    }
   ],
   "source": [
    "import pyarrow as pa\n",
    "import pyarrow.feather as feather \n",
    "\n",
    "# 51000000\n",
    "# 51\n",
    "\n",
    "content = []\n",
    "output_file_counter = 51 \n",
    "\n",
    "for i, row in tqdm(enumerate(dataset[\"train\"])): \n",
    "    if i <= 51000000: \n",
    "        continue\n",
    "    content.append(row[\"text\"]) \n",
    "\n",
    "    if i % 1e6 == 0 and i != 0: \n",
    "        table = pa.Table.from_arrays([pa.array(content)], names=[\"text\"])\n",
    "        output_filepath = f\"./{output_dir}/{str(output_file_counter).zfill(5)}.arrow\"\n",
    "\n",
    "        with pa.CompressedOutputStream(output_filepath, compression=\"gzip\") as stream: \n",
    "            writer = pa.RecordBatchStreamWriter(stream, table.schema)\n",
    "            writer.write_table(table) \n",
    "            writer.close()\n",
    "\n",
    "\n",
    "        output_file_counter += 1\n",
    "        content = []"
   ]
  },
  {
   "cell_type": "code",
   "execution_count": 6,
   "metadata": {},
   "outputs": [],
   "source": [
    "if content: \n",
    "    table = pa.Table.from_arrays([pa.array(content)], names=[\"text\"])\n",
    "    output_filepath = f\"./data_vi_culturax_converted/{str(output_file_counter).zfill(5)}.arrow\"\n",
    "\n",
    "    with pa.output_stream(output_filepath) as stream: \n",
    "        writer = pa.RecordBatchStreamWriter(stream, table.schema)\n",
    "        writer.write_table(table) \n",
    "        writer.close()"
   ]
  },
  {
   "cell_type": "code",
   "execution_count": 8,
   "metadata": {},
   "outputs": [
    {
     "data": {
      "application/vnd.jupyter.widget-view+json": {
       "model_id": "a400b9eeec1b471896937e020b65eca9",
       "version_major": 2,
       "version_minor": 0
      },
      "text/plain": [
       "Resolving data files:   0%|          | 0/58 [00:00<?, ?it/s]"
      ]
     },
     "metadata": {},
     "output_type": "display_data"
    }
   ],
   "source": [
    "test_dataset = load_dataset(\"./data_vi_culturax_converted\", split=\"train\", streaming=True)"
   ]
  }
 ],
 "metadata": {
  "kernelspec": {
   "display_name": "dl",
   "language": "python",
   "name": "python3"
  },
  "language_info": {
   "codemirror_mode": {
    "name": "ipython",
    "version": 3
   },
   "file_extension": ".py",
   "mimetype": "text/x-python",
   "name": "python",
   "nbconvert_exporter": "python",
   "pygments_lexer": "ipython3",
   "version": "3.9.20"
  }
 },
 "nbformat": 4,
 "nbformat_minor": 2
}
