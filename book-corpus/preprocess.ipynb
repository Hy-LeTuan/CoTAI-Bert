{
 "cells": [
  {
   "cell_type": "code",
   "execution_count": 26,
   "metadata": {},
   "outputs": [],
   "source": [
    "import os \n",
    "import regex\n",
    "from tqdm import tqdm "
   ]
  },
  {
   "cell_type": "code",
   "execution_count": 27,
   "metadata": {},
   "outputs": [],
   "source": [
    "base_folder = \"./data/archive/output\"\n",
    "output_folder = \"./data_cleaned\"\n",
    "\n",
    "# 6 last sentences "
   ]
  },
  {
   "cell_type": "code",
   "execution_count": 42,
   "metadata": {},
   "outputs": [],
   "source": [
    "def split_sentence(comment):\n",
    "    expression = r'(?<=[.!?])\\s+'\n",
    "    splitted = regex.split(expression, comment)\n",
    "\n",
    "    res = []\n",
    "\n",
    "    for sentence in splitted[0:-8:1]:\n",
    "        if sentence != \"\":\n",
    "            sentence = sentence.strip()\n",
    "            sentence = clean_url(sentence)\n",
    "            sentence = clean_general(sentence)\n",
    "\n",
    "            if sentence == \"<illegal>\" or sentence == \"<empty>\": \n",
    "                continue\n",
    "\n",
    "            res.append(sentence)\n",
    "\n",
    "    return res\n",
    "\n",
    "def clean_general(comment):\n",
    "    illegal_content = regex.compile(r\"^[\\?\\.\\#\\@\\-\\+\\=\\$\\^\\&,]+$\")\n",
    "    if comment == \"\" or comment == \"\\n\":\n",
    "        return \"<empty>\"\n",
    "    elif len(regex.findall(illegal_content, comment)) != 0:\n",
    "        return \"<illegal>\"\n",
    "    else:\n",
    "        return comment\n",
    "\n",
    "def clean_url(comment):\n",
    "    expression = regex.compile(\n",
    "        r\"(?:link.*?)?https?:\\/\\/[\\w\\-\\.\\/\\@\\?\\#\\:\\=\\&\\%]+\")\n",
    "    matches = regex.findall(expression, comment)\n",
    "\n",
    "    for word in matches:\n",
    "        comment = comment.replace(word, \"<link> \")\n",
    "\n",
    "    return comment\n",
    "\n",
    "def save_files(text_list, output_path): \n",
    "    with open(output_path, \"w\", encoding=\"utf-8\") as f: \n",
    "        for i in range(len(text_list)): \n",
    "            f.write(f\"{text_list[i]}\\n\")"
   ]
  },
  {
   "cell_type": "code",
   "execution_count": 55,
   "metadata": {},
   "outputs": [
    {
     "name": "stderr",
     "output_type": "stream",
     "text": [
      "100%|██████████| 10415/10415 [00:45<00:00, 230.98it/s]\n"
     ]
    }
   ],
   "source": [
    "output_file_counter = 0\n",
    "for input_file in tqdm(os.listdir(base_folder)): \n",
    "    with open(os.path.join(base_folder, input_file), \"r\", encoding=\"utf-8\") as fi: \n",
    "        line_list = fi.readlines()\n",
    "\n",
    "        content_counter = None\n",
    "        max_length = 0\n",
    "\n",
    "        for i, text in enumerate(line_list): \n",
    "            if len(text) >= max_length: \n",
    "                max_length = max(max_length, len(text))\n",
    "                content_counter = i \n",
    "            \n",
    "        content = line_list[content_counter]\n",
    "        text_list = split_sentence(content) \n",
    "\n",
    "        output_path = f\"./data_cleaned/cleaned_{str(output_file_counter).zfill(5)}.txt\"\n",
    "\n",
    "        with open(output_path, \"w\", encoding=\"utf-8\") as f: \n",
    "            for i in range(len(text_list)): \n",
    "                f.write(f\"{text_list[i]}\\n\")\n",
    "        f.close()\n",
    "            \n",
    "        output_file_counter += 1"
   ]
  }
 ],
 "metadata": {
  "kernelspec": {
   "display_name": "dl",
   "language": "python",
   "name": "python3"
  },
  "language_info": {
   "codemirror_mode": {
    "name": "ipython",
    "version": 3
   },
   "file_extension": ".py",
   "mimetype": "text/x-python",
   "name": "python",
   "nbconvert_exporter": "python",
   "pygments_lexer": "ipython3",
   "version": "3.9.20"
  }
 },
 "nbformat": 4,
 "nbformat_minor": 2
}
