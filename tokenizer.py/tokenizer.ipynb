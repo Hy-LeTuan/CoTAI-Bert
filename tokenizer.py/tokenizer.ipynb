{
 "cells": [
  {
   "cell_type": "code",
   "execution_count": 76,
   "metadata": {},
   "outputs": [],
   "source": [
    "from tokenizers import (\n",
    "    decoders,\n",
    "    models,\n",
    "    normalizers,\n",
    "    pre_tokenizers,\n",
    "    processors,\n",
    "    trainers,\n",
    "    Tokenizer,\n",
    "    NormalizedString,\n",
    "    Regex,\n",
    ")\n",
    "from tokenizers.normalizers import Normalizer\n",
    "import re"
   ]
  },
  {
   "cell_type": "code",
   "execution_count": null,
   "metadata": {},
   "outputs": [],
   "source": [
    "tokenizer = Tokenizer(models.BPE)"
   ]
  },
  {
   "cell_type": "markdown",
   "metadata": {},
   "source": [
    "# Normalizers"
   ]
  },
  {
   "cell_type": "markdown",
   "metadata": {},
   "source": [
    "1. Unicode normalization \n",
    "2. Mapping from 'y' to 'i (bác sỹ -> bác sĩ) except when 'y' is alone or when it's in the compound 'uy' "
   ]
  },
  {
   "cell_type": "code",
   "execution_count": 153,
   "metadata": {},
   "outputs": [],
   "source": [
    "class CustomNormalizer: \n",
    "    def __init__(self): \n",
    "        self.pattern = re.compile(r\" [hklmnst][^a\\á\\à\\ạ\\ả\\ã\\â\\ấ\\ầ\\ậ\\ẩ\\ẫ\\ă\\ắ\\ằ\\ẳ\\ẵ\\ặu\\s]*[y\\ỷ\\ỹ\\ỵ\\ỳ\\ý]{1}\\W{1}\")\n",
    "        self.y_to_i_map = {\n",
    "            'y': 'i',\n",
    "            'ỷ': 'ỉ',\n",
    "            'ỹ': 'ĩ',\n",
    "            'ỵ': 'ị',\n",
    "            'ỳ': 'ì',\n",
    "            'ý': 'í'\n",
    "        }\n",
    "\n",
    "    def normalize(self, normalized: NormalizedString): \n",
    "        original = normalized.original\n",
    "        matches = self.pattern.findall(original)\n",
    "\n",
    "        for match in matches: \n",
    "            replacement = match[0:-2:1] + self.y_to_i_map[match[-2]] + match[-1]\n",
    "            normalized.replace(match, replacement)\n",
    "\n",
    "        print(normalized.normalized)\n",
    "        normalized.nfc()"
   ]
  },
  {
   "cell_type": "code",
   "execution_count": 154,
   "metadata": {},
   "outputs": [],
   "source": [
    "custom_normalizer = Normalizer.custom(CustomNormalizer())"
   ]
  },
  {
   "cell_type": "code",
   "execution_count": 156,
   "metadata": {},
   "outputs": [
    {
     "data": {
      "text/plain": [
       "'tôi là một người bác sỹ và ca sỹ, tôi bị suy.'"
      ]
     },
     "execution_count": 156,
     "metadata": {},
     "output_type": "execute_result"
    }
   ],
   "source": [
    "test_text = \"Tôi là một người bác sỹ và ca sỹ, tôi bị suy.\"\n",
    "norm = NormalizedString(test_text)\n",
    "norm.lowercase()\n",
    "\n",
    "norm.normalized"
   ]
  },
  {
   "cell_type": "code",
   "execution_count": 157,
   "metadata": {},
   "outputs": [
    {
     "name": "stdout",
     "output_type": "stream",
     "text": [
      "tôi là một người bác sĩ và ca sĩ, tôi bị suy.\n"
     ]
    }
   ],
   "source": [
    "normalized_res = custom_normalizer.normalize(norm)"
   ]
  },
  {
   "cell_type": "markdown",
   "metadata": {},
   "source": [
    "# Pre-tokenizers\n"
   ]
  },
  {
   "cell_type": "markdown",
   "metadata": {},
   "source": [
    "1. Add whitespace prefix "
   ]
  }
 ],
 "metadata": {
  "kernelspec": {
   "display_name": "dl",
   "language": "python",
   "name": "python3"
  },
  "language_info": {
   "codemirror_mode": {
    "name": "ipython",
    "version": 3
   },
   "file_extension": ".py",
   "mimetype": "text/x-python",
   "name": "python",
   "nbconvert_exporter": "python",
   "pygments_lexer": "ipython3",
   "version": "3.9.20"
  }
 },
 "nbformat": 4,
 "nbformat_minor": 2
}
