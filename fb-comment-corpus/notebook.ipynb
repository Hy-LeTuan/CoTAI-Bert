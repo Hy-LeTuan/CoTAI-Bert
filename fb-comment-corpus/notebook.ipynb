{
 "cells": [
  {
   "cell_type": "code",
   "execution_count": 2,
   "metadata": {},
   "outputs": [],
   "source": [
    "import pandas as pd\n",
    "import json \n",
    "import os"
   ]
  },
  {
   "cell_type": "code",
   "execution_count": 3,
   "metadata": {},
   "outputs": [],
   "source": [
    "id_maxs = []\n",
    "maxs = [] \n",
    "for file in os.listdir(\"./json_data\"): \n",
    "    df = pd.read_json(os.path.join(\"./json_data\", file), encoding=\"utf-8\")\n",
    "    content = df[\"content\"]\n",
    "    content = content.apply(func=lambda x: len(x))\n",
    "    id_maxs.append(content.idxmax())\n",
    "    maxs.append(content.max())"
   ]
  },
  {
   "cell_type": "code",
   "execution_count": 3,
   "metadata": {},
   "outputs": [],
   "source": [
    "df = pd.read_json(\"./json_data/fb_comment_text_0.json\", encoding=\"utf-8\")"
   ]
  },
  {
   "cell_type": "code",
   "execution_count": 23,
   "metadata": {},
   "outputs": [
    {
     "data": {
      "text/plain": [
       "'-Bạn nào cần vay tiền gấp bấm vào link bên dưới rồi điền thông tin nha\\n-Hoặc ib mình tư vấn\\n -khoảng vay từ 10tr-80tr \\n-thủ tục vay đơn giản\\n\\n👉link : https://shorten.asia/8VFGxTbN'"
      ]
     },
     "execution_count": 23,
     "metadata": {},
     "output_type": "execute_result"
    }
   ],
   "source": [
    "df[\"content\"].loc[21]"
   ]
  },
  {
   "cell_type": "code",
   "execution_count": 4,
   "metadata": {},
   "outputs": [
    {
     "name": "stdout",
     "output_type": "stream",
     "text": [
      "11449\n"
     ]
    }
   ],
   "source": [
    "print(max(maxs))"
   ]
  }
 ],
 "metadata": {
  "kernelspec": {
   "display_name": "dl",
   "language": "python",
   "name": "python3"
  },
  "language_info": {
   "codemirror_mode": {
    "name": "ipython",
    "version": 3
   },
   "file_extension": ".py",
   "mimetype": "text/x-python",
   "name": "python",
   "nbconvert_exporter": "python",
   "pygments_lexer": "ipython3",
   "version": "3.9.20"
  }
 },
 "nbformat": 4,
 "nbformat_minor": 2
}
