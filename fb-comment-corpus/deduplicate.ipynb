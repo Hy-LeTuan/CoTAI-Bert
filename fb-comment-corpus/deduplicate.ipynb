{
 "cells": [
  {
   "cell_type": "code",
   "execution_count": 1,
   "metadata": {},
   "outputs": [],
   "source": [
    "from datasketch import MinHashLSH, MinHash, LeanMinHash\n",
    "from datasets import load_dataset, load_from_disk, Dataset\n",
    "from tqdm import tqdm \n",
    "import os \n",
    "import pickle\n",
    "import multiprocessing as mp"
   ]
  },
  {
   "cell_type": "code",
   "execution_count": 2,
   "metadata": {},
   "outputs": [],
   "source": [
    "SIMILARITY_THRESHOLD = 0.9\n",
    "NUM_PERMS = 128 \n",
    "SHINGLE_SIZE = 4"
   ]
  },
  {
   "cell_type": "markdown",
   "metadata": {},
   "source": [
    "# Build MinHash LSH"
   ]
  },
  {
   "cell_type": "code",
   "execution_count": 3,
   "metadata": {},
   "outputs": [],
   "source": [
    "# for resetting cassandra\n",
    "lsh = MinHashLSH(\n",
    "    threshold=SIMILARITY_THRESHOLD, num_perm=NUM_PERMS, storage_config={\n",
    "        'type': 'cassandra',\n",
    "        'basename': b'base_lsh_cassandra',\n",
    "        'cassandra': {\n",
    "            'seeds': ['127.0.0.1', \"cassandra\"],\n",
    "            'keyspace': 'lsh_test',\n",
    "            'replication': {\n",
    "                'class': 'SimpleStrategy',\n",
    "                'replication_factor': '1',\n",
    "            },\n",
    "            'drop_keyspace': True,\n",
    "            'drop_tables': True,\n",
    "        }\n",
    "    }\n",
    ")"
   ]
  },
  {
   "cell_type": "code",
   "execution_count": 3,
   "metadata": {},
   "outputs": [
    {
     "data": {
      "application/vnd.jupyter.widget-view+json": {
       "model_id": "7abb173af76b489b8078a42e7e986af4",
       "version_major": 2,
       "version_minor": 0
      },
      "text/plain": [
       "Resolving data files:   0%|          | 0/9901 [00:00<?, ?it/s]"
      ]
     },
     "metadata": {},
     "output_type": "display_data"
    }
   ],
   "source": [
    "dataset = load_dataset(\"./data_cleaned\", split=\"train\")"
   ]
  },
  {
   "cell_type": "code",
   "execution_count": 4,
   "metadata": {},
   "outputs": [
    {
     "data": {
      "text/plain": [
       "Dataset({\n",
       "    features: ['text'],\n",
       "    num_rows: 10922601\n",
       "})"
      ]
     },
     "execution_count": 4,
     "metadata": {},
     "output_type": "execute_result"
    }
   ],
   "source": [
    "dataset"
   ]
  },
  {
   "cell_type": "code",
   "execution_count": 5,
   "metadata": {},
   "outputs": [],
   "source": [
    "def get_cassandra_lsh(): \n",
    "    lsh = MinHashLSH(\n",
    "        threshold=SIMILARITY_THRESHOLD, num_perm=NUM_PERMS, storage_config={\n",
    "            'type': 'cassandra',\n",
    "            'basename': b'base_lsh_cassandra',\n",
    "            'cassandra': {\n",
    "                'seeds': ['127.0.0.1', \"cassandra\"],\n",
    "                'keyspace': 'lsh_test',\n",
    "                'replication': {\n",
    "                    'class': 'SimpleStrategy',\n",
    "                    'replication_factor': '1',\n",
    "                },\n",
    "                'drop_keyspace': False,\n",
    "                'drop_tables': False,\n",
    "            }\n",
    "        }\n",
    "    )\n",
    "\n",
    "    return lsh\n",
    "\n",
    "def _shingle(string, shingle_size=SHINGLE_SIZE):\n",
    "    shings = {\n",
    "        string[i : i + shingle_size].encode(\"utf8\")\n",
    "        for i in range(len(string) - shingle_size + 1)\n",
    "    }\n",
    "    return set(shings)\n",
    "\n",
    "def hash_and_insert(batch, indices, session): \n",
    "    for i, row in enumerate(batch[\"text\"]):  \n",
    "        shingles = _shingle(row, shingle_size=SHINGLE_SIZE)\n",
    "        # shingles = [shing.encode(\"utf8\") for shing in shingles]\n",
    "\n",
    "        if len(shingles) != 0: \n",
    "            minhash = MinHash(num_perm=NUM_PERMS)\n",
    "            for shing in shingles: \n",
    "                minhash.update(shing)\n",
    "\n",
    "            minhash = LeanMinHash(minhash=minhash)\n",
    "            session.insert(str(indices[i]), minhash, check_duplication=False)\n",
    "\n",
    "    return batch\n",
    "\n",
    "def hash_and_insert_with_basename(batch, indices): \n",
    "    lsh = get_cassandra_lsh()\n",
    "\n",
    "    with lsh.insertion_session() as session: \n",
    "        for i, row in enumerate(batch[\"text\"]):  \n",
    "            shingles = _shingle(row, shingle_size=SHINGLE_SIZE)\n",
    "            # shingles = [shing.encode(\"utf8\") for shing in shingles]\n",
    "\n",
    "            if len(shingles) != 0: \n",
    "                minhash = MinHash(num_perm=NUM_PERMS)\n",
    "                for shing in shingles: \n",
    "                    minhash.update(shing)\n",
    "\n",
    "                minhash = LeanMinHash(minhash=minhash)\n",
    "                session.insert(str(indices[i]), minhash, check_duplication=False)\n",
    "\n",
    "    return batch\n",
    "\n",
    "def hash_insert_mark_with_basename(batch, indices): \n",
    "    lsh = get_cassandra_lsh()\n",
    "\n",
    "    for i, row in enumerate(batch[\"text\"]):  \n",
    "        shingles = _shingle(row, shingle_size=SHINGLE_SIZE)\n",
    "\n",
    "        if len(shingles) != 0: \n",
    "            minhash = MinHash(num_perm=NUM_PERMS)\n",
    "            for shing in shingles: \n",
    "                minhash.update(shing)\n",
    "\n",
    "            minhash = LeanMinHash(minhash=minhash)\n",
    "            query = lsh.query(minhash)\n",
    "            \n",
    "            if len(query) == 0: \n",
    "                lsh.insert(str(indices[i]), minhash, check_duplication=False)\n",
    "                batch[\"is_duplicate\"][i] = False\n",
    "            else: \n",
    "                batch[\"is_duplicate\"][i] = True\n",
    "\n",
    "    return batch"
   ]
  },
  {
   "cell_type": "markdown",
   "metadata": {},
   "source": [
    "# Add duplicate status column to dataset "
   ]
  },
  {
   "cell_type": "code",
   "execution_count": 6,
   "metadata": {},
   "outputs": [
    {
     "data": {
      "application/vnd.jupyter.widget-view+json": {
       "model_id": "698b1ad9e16c4a9685a9a886351f5976",
       "version_major": 2,
       "version_minor": 0
      },
      "text/plain": [
       "Map (num_proc=16):   0%|          | 0/10922601 [00:00<?, ? examples/s]"
      ]
     },
     "metadata": {},
     "output_type": "display_data"
    }
   ],
   "source": [
    "def add_is_duplicate_column(example):\n",
    "    example[\"is_duplicate\"] = False  # Initialize to False\n",
    "    return example\n",
    "\n",
    "# Apply the function to the entire dataset\n",
    "dataset = dataset.map(add_is_duplicate_column, num_proc=os.cpu_count())"
   ]
  },
  {
   "cell_type": "markdown",
   "metadata": {},
   "source": [
    "# Build and mark duplicates"
   ]
  },
  {
   "cell_type": "code",
   "execution_count": 7,
   "metadata": {},
   "outputs": [
    {
     "data": {
      "application/vnd.jupyter.widget-view+json": {
       "model_id": "44abf9e23fd14b44af8136c4ab044d49",
       "version_major": 2,
       "version_minor": 0
      },
      "text/plain": [
       "Map (num_proc=16):   0%|          | 0/10922601 [00:00<?, ? examples/s]"
      ]
     },
     "metadata": {},
     "output_type": "display_data"
    },
    {
     "name": "stdout",
     "output_type": "stream",
     "text": [
      "method taking 8767.768502950668 seconds\n"
     ]
    }
   ],
   "source": [
    "# insert and query at the same time \n",
    "import time \n",
    "\n",
    "start_time = time.time() \n",
    "dataset = dataset.map(hash_insert_mark_with_basename, batched=True, batch_size=6000, num_proc=os.cpu_count(), with_indices=True)\n",
    "end_time = time.time() \n",
    "\n",
    "print(f\"method taking {end_time - start_time} seconds\")"
   ]
  },
  {
   "cell_type": "code",
   "execution_count": null,
   "metadata": {},
   "outputs": [],
   "source": [
    "# parallel solution with multiple lsh \n",
    "dataset = dataset.map(hash_and_insert_with_basename, batched=True, batch_size=2000, num_proc=os.cpu_count(), with_indices=True)"
   ]
  },
  {
   "cell_type": "markdown",
   "metadata": {},
   "source": [
    "# Remove duplicate"
   ]
  },
  {
   "cell_type": "code",
   "execution_count": 9,
   "metadata": {},
   "outputs": [],
   "source": [
    "def marked_duplicate(batch, indices):\n",
    "    lsh = get_cassandra_lsh()\n",
    "    for i, row in enumerate(batch[\"text\"]):\n",
    "        if batch[\"is_duplicate\"][i] == False: \n",
    "            shingles = _shingle(row, shingle_size=SHINGLE_SIZE)\n",
    "\n",
    "            if len(shingles) != 0:\n",
    "                minhash = MinHash(num_perm=NUM_PERMS)\n",
    "                for shing in shingles:\n",
    "                    minhash.update(shing)\n",
    "\n",
    "                query = lsh.query(minhash=minhash)\n",
    "\n",
    "                if len(query) != 0:\n",
    "                    min_id = min([int(id) for id in query])\n",
    "                    if min_id != indices[i]: \n",
    "                        batch[\"is_duplicate\"][i] = True\n",
    "\n",
    "    return batch"
   ]
  },
  {
   "cell_type": "code",
   "execution_count": 8,
   "metadata": {},
   "outputs": [
    {
     "data": {
      "application/vnd.jupyter.widget-view+json": {
       "model_id": "59c16d9ab1fb439c8fab974811c5b70a",
       "version_major": 2,
       "version_minor": 0
      },
      "text/plain": [
       "Filter (num_proc=16):   0%|          | 0/10922601 [00:00<?, ? examples/s]"
      ]
     },
     "metadata": {},
     "output_type": "display_data"
    }
   ],
   "source": [
    "# clean duplicate from dataset \n",
    "dataset = dataset.filter(lambda x: x[\"is_duplicate\"] == False, num_proc=os.cpu_count())"
   ]
  },
  {
   "cell_type": "code",
   "execution_count": 9,
   "metadata": {},
   "outputs": [
    {
     "data": {
      "text/plain": [
       "Dataset({\n",
       "    features: ['text', 'is_duplicate'],\n",
       "    num_rows: 6846330\n",
       "})"
      ]
     },
     "execution_count": 9,
     "metadata": {},
     "output_type": "execute_result"
    }
   ],
   "source": [
    "# log datset after cleaning \n",
    "dataset"
   ]
  },
  {
   "cell_type": "code",
   "execution_count": 16,
   "metadata": {},
   "outputs": [],
   "source": [
    "# remove excess columns \n",
    "dataset = dataset.remove_columns([\"is_duplicate\"])"
   ]
  },
  {
   "cell_type": "code",
   "execution_count": 10,
   "metadata": {},
   "outputs": [
    {
     "data": {
      "application/vnd.jupyter.widget-view+json": {
       "model_id": "f384faa2630845c3871565950cda6e26",
       "version_major": 2,
       "version_minor": 0
      },
      "text/plain": [
       "Saving the dataset (0/1 shards):   0%|          | 0/6846330 [00:00<?, ? examples/s]"
      ]
     },
     "metadata": {},
     "output_type": "display_data"
    }
   ],
   "source": [
    "# save cleaned dataset to disk \n",
    "dataset.save_to_disk(\"deduplicated_data\")"
   ]
  },
  {
   "cell_type": "code",
   "execution_count": 13,
   "metadata": {},
   "outputs": [],
   "source": [
    "dataset = load_dataset(\"arrow\", data_files=\"./final_data/data-00000-of-00001.arrow\", split=\"train\")"
   ]
  },
  {
   "cell_type": "code",
   "execution_count": 14,
   "metadata": {},
   "outputs": [
    {
     "data": {
      "text/plain": [
       "Dataset({\n",
       "    features: ['text', 'is_duplicate'],\n",
       "    num_rows: 6846330\n",
       "})"
      ]
     },
     "execution_count": 14,
     "metadata": {},
     "output_type": "execute_result"
    }
   ],
   "source": [
    "dataset"
   ]
  }
 ],
 "metadata": {
  "kernelspec": {
   "display_name": "dl",
   "language": "python",
   "name": "python3"
  },
  "language_info": {
   "codemirror_mode": {
    "name": "ipython",
    "version": 3
   },
   "file_extension": ".py",
   "mimetype": "text/x-python",
   "name": "python",
   "nbconvert_exporter": "python",
   "pygments_lexer": "ipython3",
   "version": "3.9.20"
  }
 },
 "nbformat": 4,
 "nbformat_minor": 2
}
