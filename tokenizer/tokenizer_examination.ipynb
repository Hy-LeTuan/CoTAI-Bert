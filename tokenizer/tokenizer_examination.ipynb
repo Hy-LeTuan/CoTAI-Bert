{
 "cells": [
  {
   "cell_type": "code",
   "execution_count": 28,
   "metadata": {},
   "outputs": [],
   "source": [
    "from transformers import AutoTokenizer\n",
    "import json \n",
    "from tqdm import tqdm "
   ]
  },
  {
   "cell_type": "code",
   "execution_count": 6,
   "metadata": {},
   "outputs": [],
   "source": [
    "tokenizer = AutoTokenizer.from_pretrained(\"./tokenizer\")"
   ]
  },
  {
   "cell_type": "code",
   "execution_count": 7,
   "metadata": {},
   "outputs": [],
   "source": [
    "with open(\"./tokenizer/tokenizer.json\", \"r\", encoding=\"utf-8\") as f: \n",
    "    data =  json.load(f) "
   ]
  },
  {
   "cell_type": "code",
   "execution_count": 9,
   "metadata": {},
   "outputs": [],
   "source": [
    "merges = data[\"model\"][\"merges\"]"
   ]
  },
  {
   "cell_type": "code",
   "execution_count": null,
   "metadata": {},
   "outputs": [],
   "source": [
    "tokenizer._conver"
   ]
  },
  {
   "cell_type": "code",
   "execution_count": 29,
   "metadata": {},
   "outputs": [
    {
     "name": "stderr",
     "output_type": "stream",
     "text": [
      "100%|██████████| 30080/30080 [06:41<00:00, 74.90it/s]\n"
     ]
    }
   ],
   "source": [
    "with open(\"./merges.txt\", \"w\", encoding=\"utf-8\") as f: \n",
    "    for i in tqdm(range(len(merges) - 1, 0, -1)): \n",
    "        a, b = merges[i]\n",
    "\n",
    "        id_a = tokenizer.vocab[a]\n",
    "        id_b = tokenizer.vocab[b]\n",
    "\n",
    "        token_a = tokenizer.decode(id_a)\n",
    "        token_b = tokenizer.decode(id_b)\n",
    "\n",
    "        log_line = f\"merging {token_a} with {token_b}\\n\"\n",
    "\n",
    "        f.write(log_line)\n",
    "\n"
   ]
  },
  {
   "cell_type": "code",
   "execution_count": 58,
   "metadata": {},
   "outputs": [],
   "source": [
    "ids = tokenizer(\"mobile phoen\")[\"input_ids\"]"
   ]
  },
  {
   "cell_type": "code",
   "execution_count": 59,
   "metadata": {},
   "outputs": [
    {
     "name": "stdout",
     "output_type": "stream",
     "text": [
      "[CLS]\n",
      "m\n",
      "obile\n",
      " phone\n",
      "[SEP]\n"
     ]
    }
   ],
   "source": [
    "for id in ids: \n",
    "    print(tokenizer.decode(id))"
   ]
  }
 ],
 "metadata": {
  "kernelspec": {
   "display_name": "dl",
   "language": "python",
   "name": "python3"
  },
  "language_info": {
   "codemirror_mode": {
    "name": "ipython",
    "version": 3
   },
   "file_extension": ".py",
   "mimetype": "text/x-python",
   "name": "python",
   "nbconvert_exporter": "python",
   "pygments_lexer": "ipython3",
   "version": "3.9.20"
  }
 },
 "nbformat": 4,
 "nbformat_minor": 2
}
